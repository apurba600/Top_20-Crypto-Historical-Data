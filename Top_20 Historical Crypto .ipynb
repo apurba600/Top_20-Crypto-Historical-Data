{
 "cells": [
  {
   "cell_type": "markdown",
   "id": "675987ce",
   "metadata": {},
   "source": [
    "# SCRAPING COINMARKETCAP"
   ]
  },
  {
   "cell_type": "markdown",
   "id": "00015913",
   "metadata": {},
   "source": [
    "- This script scraps TOP20 Crypto date from coinmarketcap\n",
    "- The first date selection is to grab the historical TOP20 cryptos at that time \n",
    "- The second date selection is to grab the price changes from start date to end date"
   ]
  },
  {
   "cell_type": "code",
   "execution_count": 1,
   "id": "b86f74ed",
   "metadata": {},
   "outputs": [],
   "source": [
    "# Libraries Used\n",
    "\n",
    "import requests\n",
    "from bs4 import BeautifulSoup\n",
    "import pandas as pd\n",
    "from cryptocmd import CmcScraper\n",
    "import matplotlib.pyplot as plt\n",
    "import seaborn as sns\n",
    "import math"
   ]
  },
  {
   "cell_type": "code",
   "execution_count": 2,
   "id": "619afd6d",
   "metadata": {},
   "outputs": [],
   "source": [
    "def get_topic_page(topic,yyyymmdd):\n",
    "    \n",
    "    topic_url = topic+'/historical/'+str(yyyymmdd)\n",
    "    response = requests.get(topic_url)\n",
    "    \n",
    "    with open('cryptooo.html','w') as f:\n",
    "        f.write(response.text)\n",
    "    \n",
    "    if not response.ok:\n",
    "        print('status:', response.status_code)\n",
    "        raise Exception('Failed to fetch webpage')\n",
    "    \n",
    "    \n",
    "    return BeautifulSoup(response.text)"
   ]
  },
  {
   "cell_type": "code",
   "execution_count": 3,
   "id": "a4cf92f0",
   "metadata": {},
   "outputs": [],
   "source": [
    "def split_it(td_tags,symbol):\n",
    "    if len(symbol) == 3:\n",
    "        return td_tags[1].text[3:]\n",
    "    else:\n",
    "        return td_tags[1].text[4:]"
   ]
  },
  {
   "cell_type": "code",
   "execution_count": 4,
   "id": "7216d2fb",
   "metadata": {},
   "outputs": [],
   "source": [
    "def get_crypto_data(tr_tag):\n",
    "    \n",
    "    td_tags = tr_tag.find_all('td')  \n",
    "    symbol =td_tags[2].text\n",
    "    name = split_it(td_tags,symbol)       \n",
    "    rank = td_tags[0].text\n",
    "    price = td_tags[4].text\n",
    "    market_cap = td_tags[6].text\n",
    "    return {'Name:': name,\n",
    "            'Symbol:':symbol,\n",
    "            'Rank:': rank,\n",
    "            'Price:': price,\n",
    "            'Marketcap:': market_cap}"
   ]
  },
  {
   "cell_type": "code",
   "execution_count": 5,
   "id": "0dc16fc9",
   "metadata": {},
   "outputs": [],
   "source": [
    "## get dataframe of all 20 crypto \n",
    "\n",
    "def flow_it():\n",
    "    tr_tags = doc.tbody.find_all('tr')\n",
    "    \n",
    "    # Retrives top 20 crypto from any historical data given the date\n",
    "    top_20_crypto = [get_crypto_data(tr_tags[i]) for i in range(20)]\n",
    "    new_20 = pd.DataFrame(top_20_crypto)\n",
    "    return new_20"
   ]
  },
  {
   "cell_type": "code",
   "execution_count": 6,
   "id": "c72ba784",
   "metadata": {},
   "outputs": [],
   "source": [
    "# instance for cmcscraper to get the data \n",
    "#start = dd-mm-yyyy\n",
    "#end = dd-mm-yyyy\n",
    "def createit(new_20,start,end):\n",
    "    \n",
    "    new_list = []\n",
    "    for i in range(18):\n",
    "       \n",
    "        new_list.append(CmcScraper((new_20.loc[i,'Symbol:']),start,end).get_dataframe().drop(['Market Cap','Volume','Low','High'],axis = 1))\n",
    "        \n",
    "    return new_list  "
   ]
  },
  {
   "cell_type": "markdown",
   "id": "2901792e",
   "metadata": {},
   "source": [
    "# Sample Use \n",
    "if __name__ == \"__main__\":\n",
    "    \n",
    "    topic='https://coinmarketcap.com'   ## URL to request to scrape\n",
    "    doc = get_topic_page(topic,20200101)  ## takes in two argument, URL and the historical date to scrap\n",
    "    data = flow_it()\n",
    "    Symbol = list(data['Symbol:'])  #get a list of the top 20 coins symbols\n",
    "    all_20_dataframe =createit(data,'01-01-2020','03-01-2022')\n",
    "    Crypto_final_list = pd.concat(all_20_dataframe,keys = Symbol,axis = 1)\n",
    "    Crypto_final_list.columns.names = ['Crypto','Crypto_info']\n",
    "    Crypto_final_list"
   ]
  },
  {
   "cell_type": "code",
   "execution_count": 7,
   "id": "ee150ef1",
   "metadata": {},
   "outputs": [
    {
     "data": {
      "text/html": [
       "<div>\n",
       "<style scoped>\n",
       "    .dataframe tbody tr th:only-of-type {\n",
       "        vertical-align: middle;\n",
       "    }\n",
       "\n",
       "    .dataframe tbody tr th {\n",
       "        vertical-align: top;\n",
       "    }\n",
       "\n",
       "    .dataframe thead tr th {\n",
       "        text-align: left;\n",
       "    }\n",
       "</style>\n",
       "<table border=\"1\" class=\"dataframe\">\n",
       "  <thead>\n",
       "    <tr>\n",
       "      <th>Crypto</th>\n",
       "      <th colspan=\"3\" halign=\"left\">BTC</th>\n",
       "      <th colspan=\"3\" halign=\"left\">ETH</th>\n",
       "      <th colspan=\"3\" halign=\"left\">XRP</th>\n",
       "      <th>USDT</th>\n",
       "      <th>...</th>\n",
       "      <th>LEO</th>\n",
       "      <th colspan=\"3\" halign=\"left\">XMR</th>\n",
       "      <th colspan=\"3\" halign=\"left\">HT</th>\n",
       "      <th colspan=\"3\" halign=\"left\">LINK</th>\n",
       "    </tr>\n",
       "    <tr>\n",
       "      <th>Crypto_info</th>\n",
       "      <th>Date</th>\n",
       "      <th>Open</th>\n",
       "      <th>Close</th>\n",
       "      <th>Date</th>\n",
       "      <th>Open</th>\n",
       "      <th>Close</th>\n",
       "      <th>Date</th>\n",
       "      <th>Open</th>\n",
       "      <th>Close</th>\n",
       "      <th>Date</th>\n",
       "      <th>...</th>\n",
       "      <th>Close</th>\n",
       "      <th>Date</th>\n",
       "      <th>Open</th>\n",
       "      <th>Close</th>\n",
       "      <th>Date</th>\n",
       "      <th>Open</th>\n",
       "      <th>Close</th>\n",
       "      <th>Date</th>\n",
       "      <th>Open</th>\n",
       "      <th>Close</th>\n",
       "    </tr>\n",
       "  </thead>\n",
       "  <tbody>\n",
       "    <tr>\n",
       "      <th>0</th>\n",
       "      <td>2022-01-03</td>\n",
       "      <td>47343.543765</td>\n",
       "      <td>46458.116959</td>\n",
       "      <td>2022-01-03</td>\n",
       "      <td>3829.535741</td>\n",
       "      <td>3761.380274</td>\n",
       "      <td>2022-01-03</td>\n",
       "      <td>0.859107</td>\n",
       "      <td>0.832885</td>\n",
       "      <td>2022-01-03</td>\n",
       "      <td>...</td>\n",
       "      <td>3.795962</td>\n",
       "      <td>2022-01-03</td>\n",
       "      <td>239.374921</td>\n",
       "      <td>231.547550</td>\n",
       "      <td>2022-01-03</td>\n",
       "      <td>9.402447</td>\n",
       "      <td>9.378160</td>\n",
       "      <td>2022-01-03</td>\n",
       "      <td>21.832073</td>\n",
       "      <td>23.573905</td>\n",
       "    </tr>\n",
       "    <tr>\n",
       "      <th>1</th>\n",
       "      <td>2022-01-02</td>\n",
       "      <td>47680.926625</td>\n",
       "      <td>47345.220564</td>\n",
       "      <td>2022-01-02</td>\n",
       "      <td>3769.298437</td>\n",
       "      <td>3829.565045</td>\n",
       "      <td>2022-01-02</td>\n",
       "      <td>0.849442</td>\n",
       "      <td>0.859118</td>\n",
       "      <td>2022-01-02</td>\n",
       "      <td>...</td>\n",
       "      <td>3.779418</td>\n",
       "      <td>2022-01-02</td>\n",
       "      <td>250.174352</td>\n",
       "      <td>239.371703</td>\n",
       "      <td>2022-01-02</td>\n",
       "      <td>9.439328</td>\n",
       "      <td>9.402636</td>\n",
       "      <td>2022-01-02</td>\n",
       "      <td>20.666177</td>\n",
       "      <td>21.831890</td>\n",
       "    </tr>\n",
       "    <tr>\n",
       "      <th>2</th>\n",
       "      <td>2022-01-01</td>\n",
       "      <td>46311.744663</td>\n",
       "      <td>47686.811509</td>\n",
       "      <td>2022-01-01</td>\n",
       "      <td>3683.047156</td>\n",
       "      <td>3769.696916</td>\n",
       "      <td>2022-01-01</td>\n",
       "      <td>0.831281</td>\n",
       "      <td>0.849472</td>\n",
       "      <td>2022-01-01</td>\n",
       "      <td>...</td>\n",
       "      <td>3.803560</td>\n",
       "      <td>2022-01-01</td>\n",
       "      <td>228.847844</td>\n",
       "      <td>250.206176</td>\n",
       "      <td>2022-01-01</td>\n",
       "      <td>9.374273</td>\n",
       "      <td>9.441516</td>\n",
       "      <td>2022-01-01</td>\n",
       "      <td>19.593613</td>\n",
       "      <td>20.665088</td>\n",
       "    </tr>\n",
       "    <tr>\n",
       "      <th>3</th>\n",
       "      <td>2021-12-31</td>\n",
       "      <td>47169.372859</td>\n",
       "      <td>46306.446123</td>\n",
       "      <td>2021-12-31</td>\n",
       "      <td>3713.430093</td>\n",
       "      <td>3682.632905</td>\n",
       "      <td>2021-12-31</td>\n",
       "      <td>0.839681</td>\n",
       "      <td>0.831163</td>\n",
       "      <td>2021-12-31</td>\n",
       "      <td>...</td>\n",
       "      <td>3.768074</td>\n",
       "      <td>2021-12-31</td>\n",
       "      <td>225.582449</td>\n",
       "      <td>228.824957</td>\n",
       "      <td>2021-12-31</td>\n",
       "      <td>9.488653</td>\n",
       "      <td>9.371063</td>\n",
       "      <td>2021-12-31</td>\n",
       "      <td>19.962461</td>\n",
       "      <td>19.592325</td>\n",
       "    </tr>\n",
       "    <tr>\n",
       "      <th>4</th>\n",
       "      <td>2021-12-30</td>\n",
       "      <td>46490.606049</td>\n",
       "      <td>47178.125843</td>\n",
       "      <td>2021-12-30</td>\n",
       "      <td>3632.219817</td>\n",
       "      <td>3713.852163</td>\n",
       "      <td>2021-12-30</td>\n",
       "      <td>0.817919</td>\n",
       "      <td>0.839649</td>\n",
       "      <td>2021-12-30</td>\n",
       "      <td>...</td>\n",
       "      <td>3.790645</td>\n",
       "      <td>2021-12-30</td>\n",
       "      <td>214.649997</td>\n",
       "      <td>225.748020</td>\n",
       "      <td>2021-12-30</td>\n",
       "      <td>9.679224</td>\n",
       "      <td>9.487837</td>\n",
       "      <td>2021-12-30</td>\n",
       "      <td>19.748914</td>\n",
       "      <td>19.970342</td>\n",
       "    </tr>\n",
       "    <tr>\n",
       "      <th>...</th>\n",
       "      <td>...</td>\n",
       "      <td>...</td>\n",
       "      <td>...</td>\n",
       "      <td>...</td>\n",
       "      <td>...</td>\n",
       "      <td>...</td>\n",
       "      <td>...</td>\n",
       "      <td>...</td>\n",
       "      <td>...</td>\n",
       "      <td>...</td>\n",
       "      <td>...</td>\n",
       "      <td>...</td>\n",
       "      <td>...</td>\n",
       "      <td>...</td>\n",
       "      <td>...</td>\n",
       "      <td>...</td>\n",
       "      <td>...</td>\n",
       "      <td>...</td>\n",
       "      <td>...</td>\n",
       "      <td>...</td>\n",
       "      <td>...</td>\n",
       "    </tr>\n",
       "    <tr>\n",
       "      <th>3168</th>\n",
       "      <td>2013-05-02</td>\n",
       "      <td>116.379997</td>\n",
       "      <td>105.209999</td>\n",
       "      <td>NaT</td>\n",
       "      <td>NaN</td>\n",
       "      <td>NaN</td>\n",
       "      <td>NaT</td>\n",
       "      <td>NaN</td>\n",
       "      <td>NaN</td>\n",
       "      <td>NaT</td>\n",
       "      <td>...</td>\n",
       "      <td>NaN</td>\n",
       "      <td>NaT</td>\n",
       "      <td>NaN</td>\n",
       "      <td>NaN</td>\n",
       "      <td>NaT</td>\n",
       "      <td>NaN</td>\n",
       "      <td>NaN</td>\n",
       "      <td>NaT</td>\n",
       "      <td>NaN</td>\n",
       "      <td>NaN</td>\n",
       "    </tr>\n",
       "    <tr>\n",
       "      <th>3169</th>\n",
       "      <td>2013-05-01</td>\n",
       "      <td>139.000000</td>\n",
       "      <td>116.989998</td>\n",
       "      <td>NaT</td>\n",
       "      <td>NaN</td>\n",
       "      <td>NaN</td>\n",
       "      <td>NaT</td>\n",
       "      <td>NaN</td>\n",
       "      <td>NaN</td>\n",
       "      <td>NaT</td>\n",
       "      <td>...</td>\n",
       "      <td>NaN</td>\n",
       "      <td>NaT</td>\n",
       "      <td>NaN</td>\n",
       "      <td>NaN</td>\n",
       "      <td>NaT</td>\n",
       "      <td>NaN</td>\n",
       "      <td>NaN</td>\n",
       "      <td>NaT</td>\n",
       "      <td>NaN</td>\n",
       "      <td>NaN</td>\n",
       "    </tr>\n",
       "    <tr>\n",
       "      <th>3170</th>\n",
       "      <td>2013-04-30</td>\n",
       "      <td>144.000000</td>\n",
       "      <td>139.000000</td>\n",
       "      <td>NaT</td>\n",
       "      <td>NaN</td>\n",
       "      <td>NaN</td>\n",
       "      <td>NaT</td>\n",
       "      <td>NaN</td>\n",
       "      <td>NaN</td>\n",
       "      <td>NaT</td>\n",
       "      <td>...</td>\n",
       "      <td>NaN</td>\n",
       "      <td>NaT</td>\n",
       "      <td>NaN</td>\n",
       "      <td>NaN</td>\n",
       "      <td>NaT</td>\n",
       "      <td>NaN</td>\n",
       "      <td>NaN</td>\n",
       "      <td>NaT</td>\n",
       "      <td>NaN</td>\n",
       "      <td>NaN</td>\n",
       "    </tr>\n",
       "    <tr>\n",
       "      <th>3171</th>\n",
       "      <td>2013-04-29</td>\n",
       "      <td>134.444000</td>\n",
       "      <td>144.539993</td>\n",
       "      <td>NaT</td>\n",
       "      <td>NaN</td>\n",
       "      <td>NaN</td>\n",
       "      <td>NaT</td>\n",
       "      <td>NaN</td>\n",
       "      <td>NaN</td>\n",
       "      <td>NaT</td>\n",
       "      <td>...</td>\n",
       "      <td>NaN</td>\n",
       "      <td>NaT</td>\n",
       "      <td>NaN</td>\n",
       "      <td>NaN</td>\n",
       "      <td>NaT</td>\n",
       "      <td>NaN</td>\n",
       "      <td>NaN</td>\n",
       "      <td>NaT</td>\n",
       "      <td>NaN</td>\n",
       "      <td>NaN</td>\n",
       "    </tr>\n",
       "    <tr>\n",
       "      <th>3172</th>\n",
       "      <td>2013-04-28</td>\n",
       "      <td>135.300003</td>\n",
       "      <td>134.210007</td>\n",
       "      <td>NaT</td>\n",
       "      <td>NaN</td>\n",
       "      <td>NaN</td>\n",
       "      <td>NaT</td>\n",
       "      <td>NaN</td>\n",
       "      <td>NaN</td>\n",
       "      <td>NaT</td>\n",
       "      <td>...</td>\n",
       "      <td>NaN</td>\n",
       "      <td>NaT</td>\n",
       "      <td>NaN</td>\n",
       "      <td>NaN</td>\n",
       "      <td>NaT</td>\n",
       "      <td>NaN</td>\n",
       "      <td>NaN</td>\n",
       "      <td>NaT</td>\n",
       "      <td>NaN</td>\n",
       "      <td>NaN</td>\n",
       "    </tr>\n",
       "  </tbody>\n",
       "</table>\n",
       "<p>3173 rows × 54 columns</p>\n",
       "</div>"
      ],
      "text/plain": [
       "Crypto             BTC                                    ETH               \\\n",
       "Crypto_info       Date          Open         Close       Date         Open   \n",
       "0           2022-01-03  47343.543765  46458.116959 2022-01-03  3829.535741   \n",
       "1           2022-01-02  47680.926625  47345.220564 2022-01-02  3769.298437   \n",
       "2           2022-01-01  46311.744663  47686.811509 2022-01-01  3683.047156   \n",
       "3           2021-12-31  47169.372859  46306.446123 2021-12-31  3713.430093   \n",
       "4           2021-12-30  46490.606049  47178.125843 2021-12-30  3632.219817   \n",
       "...                ...           ...           ...        ...          ...   \n",
       "3168        2013-05-02    116.379997    105.209999        NaT          NaN   \n",
       "3169        2013-05-01    139.000000    116.989998        NaT          NaN   \n",
       "3170        2013-04-30    144.000000    139.000000        NaT          NaN   \n",
       "3171        2013-04-29    134.444000    144.539993        NaT          NaN   \n",
       "3172        2013-04-28    135.300003    134.210007        NaT          NaN   \n",
       "\n",
       "Crypto                          XRP                           USDT  ...  \\\n",
       "Crypto_info        Close       Date      Open     Close       Date  ...   \n",
       "0            3761.380274 2022-01-03  0.859107  0.832885 2022-01-03  ...   \n",
       "1            3829.565045 2022-01-02  0.849442  0.859118 2022-01-02  ...   \n",
       "2            3769.696916 2022-01-01  0.831281  0.849472 2022-01-01  ...   \n",
       "3            3682.632905 2021-12-31  0.839681  0.831163 2021-12-31  ...   \n",
       "4            3713.852163 2021-12-30  0.817919  0.839649 2021-12-30  ...   \n",
       "...                  ...        ...       ...       ...        ...  ...   \n",
       "3168                 NaN        NaT       NaN       NaN        NaT  ...   \n",
       "3169                 NaN        NaT       NaN       NaN        NaT  ...   \n",
       "3170                 NaN        NaT       NaN       NaN        NaT  ...   \n",
       "3171                 NaN        NaT       NaN       NaN        NaT  ...   \n",
       "3172                 NaN        NaT       NaN       NaN        NaT  ...   \n",
       "\n",
       "Crypto            LEO        XMR                                 HT            \\\n",
       "Crypto_info     Close       Date        Open       Close       Date      Open   \n",
       "0            3.795962 2022-01-03  239.374921  231.547550 2022-01-03  9.402447   \n",
       "1            3.779418 2022-01-02  250.174352  239.371703 2022-01-02  9.439328   \n",
       "2            3.803560 2022-01-01  228.847844  250.206176 2022-01-01  9.374273   \n",
       "3            3.768074 2021-12-31  225.582449  228.824957 2021-12-31  9.488653   \n",
       "4            3.790645 2021-12-30  214.649997  225.748020 2021-12-30  9.679224   \n",
       "...               ...        ...         ...         ...        ...       ...   \n",
       "3168              NaN        NaT         NaN         NaN        NaT       NaN   \n",
       "3169              NaN        NaT         NaN         NaN        NaT       NaN   \n",
       "3170              NaN        NaT         NaN         NaN        NaT       NaN   \n",
       "3171              NaN        NaT         NaN         NaN        NaT       NaN   \n",
       "3172              NaN        NaT         NaN         NaN        NaT       NaN   \n",
       "\n",
       "Crypto                      LINK                        \n",
       "Crypto_info     Close       Date       Open      Close  \n",
       "0            9.378160 2022-01-03  21.832073  23.573905  \n",
       "1            9.402636 2022-01-02  20.666177  21.831890  \n",
       "2            9.441516 2022-01-01  19.593613  20.665088  \n",
       "3            9.371063 2021-12-31  19.962461  19.592325  \n",
       "4            9.487837 2021-12-30  19.748914  19.970342  \n",
       "...               ...        ...        ...        ...  \n",
       "3168              NaN        NaT        NaN        NaN  \n",
       "3169              NaN        NaT        NaN        NaN  \n",
       "3170              NaN        NaT        NaN        NaN  \n",
       "3171              NaN        NaT        NaN        NaN  \n",
       "3172              NaN        NaT        NaN        NaN  \n",
       "\n",
       "[3173 rows x 54 columns]"
      ]
     },
     "execution_count": 7,
     "metadata": {},
     "output_type": "execute_result"
    }
   ],
   "source": [
    "topic='https://coinmarketcap.com'   ## URL to request to scrape\n",
    "doc = get_topic_page(topic,20200101)  ## takes in two argument, URL and the historical date to scrap\n",
    "data = flow_it()\n",
    "Symbol = list(data['Symbol:'])  #get a list of the top 20 coins symbols\n",
    "all_20_dataframe =createit(data,'01-01-2012','03-01-2022')\n",
    "Crypto_final_list = pd.concat(all_20_dataframe,keys = Symbol,axis = 1)\n",
    "Crypto_final_list.columns.names = ['Crypto','Crypto_info']\n",
    "Crypto_final_list"
   ]
  },
  {
   "cell_type": "code",
   "execution_count": 8,
   "id": "fdbc500b",
   "metadata": {},
   "outputs": [],
   "source": [
    "df = Crypto_final_list.copy()"
   ]
  },
  {
   "cell_type": "code",
   "execution_count": 9,
   "id": "952e69f9",
   "metadata": {},
   "outputs": [
    {
     "name": "stderr",
     "output_type": "stream",
     "text": [
      "/Users/apurba60/opt/anaconda3/envs/tf/lib/python3.7/site-packages/ipykernel_launcher.py:2: SettingWithCopyWarning: \n",
      "A value is trying to be set on a copy of a slice from a DataFrame.\n",
      "Try using .loc[row_indexer,col_indexer] = value instead\n",
      "\n",
      "See the caveats in the documentation: https://pandas.pydata.org/pandas-docs/stable/user_guide/indexing.html#returning-a-view-versus-a-copy\n",
      "  \n"
     ]
    },
    {
     "data": {
      "text/html": [
       "<div>\n",
       "<style scoped>\n",
       "    .dataframe tbody tr th:only-of-type {\n",
       "        vertical-align: middle;\n",
       "    }\n",
       "\n",
       "    .dataframe tbody tr th {\n",
       "        vertical-align: top;\n",
       "    }\n",
       "\n",
       "    .dataframe thead th {\n",
       "        text-align: right;\n",
       "    }\n",
       "</style>\n",
       "<table border=\"1\" class=\"dataframe\">\n",
       "  <thead>\n",
       "    <tr style=\"text-align: right;\">\n",
       "      <th>Crypto_info</th>\n",
       "      <th>Open</th>\n",
       "      <th>Close</th>\n",
       "    </tr>\n",
       "    <tr>\n",
       "      <th>Date</th>\n",
       "      <th></th>\n",
       "      <th></th>\n",
       "    </tr>\n",
       "  </thead>\n",
       "  <tbody>\n",
       "    <tr>\n",
       "      <th>2022-01-03</th>\n",
       "      <td>47343.543765</td>\n",
       "      <td>46458.116959</td>\n",
       "    </tr>\n",
       "    <tr>\n",
       "      <th>2022-01-02</th>\n",
       "      <td>47680.926625</td>\n",
       "      <td>47345.220564</td>\n",
       "    </tr>\n",
       "  </tbody>\n",
       "</table>\n",
       "</div>"
      ],
      "text/plain": [
       "Crypto_info          Open         Close\n",
       "Date                                   \n",
       "2022-01-03   47343.543765  46458.116959\n",
       "2022-01-02   47680.926625  47345.220564"
      ]
     },
     "execution_count": 9,
     "metadata": {},
     "output_type": "execute_result"
    }
   ],
   "source": [
    "df_btc = df[\"BTC\"]\n",
    "df_btc[\"Date\"] = pd.to_datetime(df_btc[\"Date\"])\n",
    "df_btc = df_btc.set_index(\"Date\")\n",
    "df_btc.head(2)"
   ]
  },
  {
   "cell_type": "code",
   "execution_count": 10,
   "id": "2468d84b",
   "metadata": {},
   "outputs": [],
   "source": [
    "df_btc[\"Log_return\"] = (df_btc[\"Close\"].shift(1)/df_btc[\"Close\"]).apply(lambda x: math.log(x))\n",
    "df_btc = df_btc.dropna()\n",
    "df_btc = df_btc.drop([\"Open\"], axis = 1)"
   ]
  },
  {
   "cell_type": "code",
   "execution_count": 11,
   "id": "8dcf3d44",
   "metadata": {},
   "outputs": [
    {
     "data": {
      "text/plain": [
       "<AxesSubplot:xlabel='Date'>"
      ]
     },
     "execution_count": 11,
     "metadata": {},
     "output_type": "execute_result"
    },
    {
     "data": {
      "image/png": "[encoded data removed]",
      "text/plain": [
       "<Figure size 432x288 with 1 Axes>"
      ]
     },
     "metadata": {
      "needs_background": "light"
     },
     "output_type": "display_data"
    }
   ],
   "source": [
    "df_btc[\"Close\"].plot()"
   ]
  },
  {
   "cell_type": "code",
   "execution_count": 12,
   "id": "9afaa5e9",
   "metadata": {},
   "outputs": [
    {
     "data": {
      "text/html": [
       "<div>\n",
       "<style scoped>\n",
       "    .dataframe tbody tr th:only-of-type {\n",
       "        vertical-align: middle;\n",
       "    }\n",
       "\n",
       "    .dataframe tbody tr th {\n",
       "        vertical-align: top;\n",
       "    }\n",
       "\n",
       "    .dataframe thead th {\n",
       "        text-align: right;\n",
       "    }\n",
       "</style>\n",
       "<table border=\"1\" class=\"dataframe\">\n",
       "  <thead>\n",
       "    <tr style=\"text-align: right;\">\n",
       "      <th>Crypto_info</th>\n",
       "      <th>Close</th>\n",
       "      <th>Log_return</th>\n",
       "    </tr>\n",
       "    <tr>\n",
       "      <th>Date</th>\n",
       "      <th></th>\n",
       "      <th></th>\n",
       "    </tr>\n",
       "  </thead>\n",
       "  <tbody>\n",
       "    <tr>\n",
       "      <th>2022-01-02</th>\n",
       "      <td>47345.220564</td>\n",
       "      <td>-0.018915</td>\n",
       "    </tr>\n",
       "    <tr>\n",
       "      <th>2022-01-01</th>\n",
       "      <td>47686.811509</td>\n",
       "      <td>-0.007189</td>\n",
       "    </tr>\n",
       "  </tbody>\n",
       "</table>\n",
       "</div>"
      ],
      "text/plain": [
       "Crypto_info         Close  Log_return\n",
       "Date                                 \n",
       "2022-01-02   47345.220564   -0.018915\n",
       "2022-01-01   47686.811509   -0.007189"
      ]
     },
     "execution_count": 12,
     "metadata": {},
     "output_type": "execute_result"
    }
   ],
   "source": [
    "df_btc.head(2)"
   ]
  },
  {
   "cell_type": "code",
   "execution_count": 26,
   "id": "acbfda50",
   "metadata": {},
   "outputs": [
    {
     "data": {
      "text/plain": [
       "Crypto_info\n",
       "Close         0\n",
       "Log_return    0\n",
       "dtype: int64"
      ]
     },
     "execution_count": 26,
     "metadata": {},
     "output_type": "execute_result"
    }
   ],
   "source": [
    "df_btc.isnull().sum()"
   ]
  },
  {
   "cell_type": "code",
   "execution_count": 99,
   "id": "02f06b3d",
   "metadata": {},
   "outputs": [
    {
     "name": "stderr",
     "output_type": "stream",
     "text": [
      "/Users/apurba60/opt/anaconda3/envs/tf/lib/python3.7/site-packages/ipykernel_launcher.py:9: FutureWarning: Value based partial slicing on non-monotonic DatetimeIndexes with non-existing keys is deprecated and will raise a KeyError in a future Version.\n",
      "  if __name__ == '__main__':\n"
     ]
    }
   ],
   "source": [
    "# Split between train and test\n",
    "\n",
    "df1 = df_btc.copy()\n",
    "df1 = df1.reset_index()\n",
    "df1 = df1[[\"Date\",\"Close\"]]\n",
    "df1.columns = [\"ds\", \"y\"]\n",
    "df1 = df1.set_index(\"ds\")\n",
    "train = df1.loc[\"2013-04-28\":\"2022-01-01\"]\n",
    "test = df1.loc[\"2021-01-01\":]"
   ]
  },
  {
   "cell_type": "code",
   "execution_count": 100,
   "id": "c120e193",
   "metadata": {},
   "outputs": [
    {
     "name": "stdout",
     "output_type": "stream",
     "text": [
      "Initial log joint probability = -118.683\n",
      "    Iter      log prob        ||dx||      ||grad||       alpha      alpha0  # evals  Notes \n",
      "      99       6698.91    0.00962458       1891.52      0.3196      0.3196      122   \n",
      "    Iter      log prob        ||dx||      ||grad||       alpha      alpha0  # evals  Notes \n",
      "     199       6865.47    0.00452672         338.7       1.011      0.1011      248   \n",
      "    Iter      log prob        ||dx||      ||grad||       alpha      alpha0  # evals  Notes \n",
      "     299       6906.29    0.00152905       464.341      0.2592           1      368   \n",
      "    Iter      log prob        ||dx||      ||grad||       alpha      alpha0  # evals  Notes \n",
      "     399        6945.1     0.0219353       323.196           1           1      489   \n",
      "    Iter      log prob        ||dx||      ||grad||       alpha      alpha0  # evals  Notes \n",
      "     499       6975.73    0.00610299       460.149           1           1      608   \n",
      "    Iter      log prob        ||dx||      ||grad||       alpha      alpha0  # evals  Notes \n",
      "     599       6980.16    0.00253448       263.235           1           1      724   \n",
      "    Iter      log prob        ||dx||      ||grad||       alpha      alpha0  # evals  Notes \n",
      "     634       6981.93   4.08661e-05       83.0786   2.138e-07       0.001      807  LS failed, Hessian reset \n",
      "     699        6983.2   0.000542551       94.4014           1           1      894   \n",
      "    Iter      log prob        ||dx||      ||grad||       alpha      alpha0  # evals  Notes \n",
      "     728       6983.66   5.15556e-05       128.069   2.648e-07       0.001      963  LS failed, Hessian reset \n",
      "     799       6984.05   0.000576181       73.2713           1           1     1048   \n",
      "    Iter      log prob        ||dx||      ||grad||       alpha      alpha0  # evals  Notes \n",
      "     899       6986.21    0.00170173       178.531           1           1     1171   \n",
      "    Iter      log prob        ||dx||      ||grad||       alpha      alpha0  # evals  Notes \n",
      "     909       6986.58   8.08089e-05        188.53   7.443e-07       0.001     1235  LS failed, Hessian reset \n",
      "     999       6987.46   4.61159e-05       68.7346      0.7301      0.7301     1344   \n",
      "    Iter      log prob        ||dx||      ||grad||       alpha      alpha0  # evals  Notes \n",
      "    1098        6987.5   2.47644e-07       59.2952      0.2751      0.2751     1479   \n",
      "Optimization terminated normally: \n",
      "  Convergence detected: relative gradient magnitude is below tolerance\n"
     ]
    }
   ],
   "source": [
    "# Import library and instantiate the model\n",
    "from prophet import Prophet\n",
    "fbprop = Prophet(daily_seasonality=True)\n",
    "fbprop_fit = fbprop.fit(train.reset_index())"
   ]
  },
  {
   "cell_type": "code",
   "execution_count": 101,
   "id": "1f2d6b1b",
   "metadata": {},
   "outputs": [],
   "source": [
    "# Predict, input should be a pd.dataframe with date column as ds\n",
    "X = test.copy()\n",
    "X.reset_index(inplace = True)\n",
    "pred = fbprop.predict(pd.DataFrame(X[\"ds\"],columns = [\"ds\"]))\n",
    "pred = pred[\"yhat\"]"
   ]
  },
  {
   "cell_type": "code",
   "execution_count": 102,
   "id": "46aff84c",
   "metadata": {},
   "outputs": [
    {
     "name": "stdout",
     "output_type": "stream",
     "text": [
      "Test Score: 14385.39 RMSE\n"
     ]
    }
   ],
   "source": [
    "# Check Error\n",
    "rmse_test_prophet = math.sqrt(mean_squared_error(test[\"y\"],pred))\n",
    "print('Test Score: %.2f RMSE' % (rmse_test_prophet))"
   ]
  },
  {
   "cell_type": "code",
   "execution_count": 103,
   "id": "c608ef2c",
   "metadata": {},
   "outputs": [
    {
     "data": {
      "text/plain": [
       "<AxesSubplot:xlabel='Date', ylabel='Close'>"
      ]
     },
     "execution_count": 103,
     "metadata": {},
     "output_type": "execute_result"
    },
    {
     "data": {
      "image/png": "[encoded data removed]",
      "text/plain": [
       "<Figure size 1080x648 with 1 Axes>"
      ]
     },
     "metadata": {
      "needs_background": "light"
     },
     "output_type": "display_data"
    }
   ],
   "source": [
    "# Plot \n",
    "test = test.reset_index()\n",
    "f, ax = plt.subplots(figsize = (15,9))\n",
    "\n",
    "sns.lineplot(x = df_btc.index, y = df_btc[\"Close\"], ax = ax)\n",
    "sns.lineplot(x = test[\"ds\"], y = pred, ax = ax, color = \"orange\")"
   ]
  },
  {
   "cell_type": "markdown",
   "id": "e1d037c1",
   "metadata": {},
   "source": [
    "# Conclusion: \n",
    "\n",
    "-The model was not able to perform well due to the exponential growth\n",
    "- Its better to try with log returns to see better result\n"
   ]
  },
  {
   "cell_type": "code",
   "execution_count": null,
   "id": "bcd8d3f2",
   "metadata": {},
   "outputs": [],
   "source": []
  }
 ],
 "metadata": {
  "kernelspec": {
   "display_name": "Python 3 (ipykernel)",
   "language": "python",
   "name": "python3"
  },
  "language_info": {
   "codemirror_mode": {
    "name": "ipython",
    "version": 3
   },
   "file_extension": ".py",
   "mimetype": "text/x-python",
   "name": "python",
   "nbconvert_exporter": "python",
   "pygments_lexer": "ipython3",
   "version": "3.7.11"
  }
 },
 "nbformat": 4,
 "nbformat_minor": 5
}
